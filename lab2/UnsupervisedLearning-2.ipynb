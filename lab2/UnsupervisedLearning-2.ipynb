{
    "metadata": {
        "kernelspec": {
            "name": "python3",
            "display_name": "Python 3 (ipykernel)",
            "language": "python"
        }
    },
    "nbformat": 4,
    "nbformat_minor": 2,
    "cells": [
        {
            "attachments": {},
            "cell_type": "markdown",
            "metadata": {},
            "source": [
                "This code gives an introduction to unsupervised learning by solving a clustering problem using **K-Means Clustering** following [this tutorial](https://youtu.be/EItlUEPCIzM).\n",
                "\n",
                "Replace 'XLABEL' and 'YLABEL' with the respective labels in your data set."
            ]
        },
        {
            "attachments": {},
            "cell_type": "markdown",
            "metadata": {},
            "source": [
                "# Problem description\n",
                "Enter in the text cell below the clustering problem that you're about to work on. \n",
                "\n",
                "What is your X and Y label?"
            ]
        },
        {
            "attachments": {},
            "cell_type": "markdown",
            "metadata": {},
            "source": [
                ""
            ]
        },
        {
            "attachments": {},
            "cell_type": "markdown",
            "metadata": {},
            "source": [
                "Import packages"
            ]
        },
        {
            "cell_type": "code",
            "execution_count": 96,
            "metadata": {},
            "outputs": [],
            "source": [
                "from sklearn.cluster import KMeans\n",
                "import pandas as pd\n",
                "from sklearn.preprocessing import MinMaxScaler\n",
                "from matplotlib import pyplot as plt\n",
                "%matplotlib inline\n",
                ""
            ]
        },
        {
            "attachments": {},
            "cell_type": "markdown",
            "metadata": {},
            "source": [
                "Import and explore the data set"
            ]
        },
        {
            "cell_type": "code",
            "execution_count": 97,
            "metadata": {},
            "outputs": [
                {
                    "data": {
                        "text/html": "\u003cdiv\u003e\n\u003cstyle scoped\u003e\n    .dataframe tbody tr th:only-of-type {\n        vertical-align: middle;\n    }\n\n    .dataframe tbody tr th {\n        vertical-align: top;\n    }\n\n    .dataframe thead th {\n        text-align: right;\n    }\n\u003c/style\u003e\n\u003ctable border=\"1\" class=\"dataframe\"\u003e\n  \u003cthead\u003e\n    \u003ctr style=\"text-align: right;\"\u003e\n      \u003cth\u003e\u003c/th\u003e\n      \u003cth\u003eUnnamed: 0\u003c/th\u003e\n      \u003cth\u003ename\u003c/th\u003e\n      \u003cth\u003eopen\u003c/th\u003e\n      \u003cth\u003eclose\u003c/th\u003e\n      \u003cth\u003ehigh\u003c/th\u003e\n      \u003cth\u003elow\u003c/th\u003e\n      \u003cth\u003evolume\u003c/th\u003e\n    \u003c/tr\u003e\n  \u003c/thead\u003e\n  \u003ctbody\u003e\n    \u003ctr\u003e\n      \u003cth\u003e0\u003c/th\u003e\n      \u003ctd\u003e1971-02-05\u003c/td\u003e\n      \u003ctd\u003e^IXIC\u003c/td\u003e\n      \u003ctd\u003e100.00\u003c/td\u003e\n      \u003ctd\u003e100.00\u003c/td\u003e\n      \u003ctd\u003e100.00\u003c/td\u003e\n      \u003ctd\u003e100.00\u003c/td\u003e\n      \u003ctd\u003e0.0\u003c/td\u003e\n    \u003c/tr\u003e\n    \u003ctr\u003e\n      \u003cth\u003e1\u003c/th\u003e\n      \u003ctd\u003e1971-02-08\u003c/td\u003e\n      \u003ctd\u003e^IXIC\u003c/td\u003e\n      \u003ctd\u003e100.84\u003c/td\u003e\n      \u003ctd\u003e100.84\u003c/td\u003e\n      \u003ctd\u003e100.84\u003c/td\u003e\n      \u003ctd\u003e100.84\u003c/td\u003e\n      \u003ctd\u003e0.0\u003c/td\u003e\n    \u003c/tr\u003e\n    \u003ctr\u003e\n      \u003cth\u003e2\u003c/th\u003e\n      \u003ctd\u003e1971-02-09\u003c/td\u003e\n      \u003ctd\u003e^IXIC\u003c/td\u003e\n      \u003ctd\u003e100.76\u003c/td\u003e\n      \u003ctd\u003e100.76\u003c/td\u003e\n      \u003ctd\u003e100.76\u003c/td\u003e\n      \u003ctd\u003e100.76\u003c/td\u003e\n      \u003ctd\u003e0.0\u003c/td\u003e\n    \u003c/tr\u003e\n    \u003ctr\u003e\n      \u003cth\u003e3\u003c/th\u003e\n      \u003ctd\u003e1971-02-10\u003c/td\u003e\n      \u003ctd\u003e^IXIC\u003c/td\u003e\n      \u003ctd\u003e100.69\u003c/td\u003e\n      \u003ctd\u003e100.69\u003c/td\u003e\n      \u003ctd\u003e100.69\u003c/td\u003e\n      \u003ctd\u003e100.69\u003c/td\u003e\n      \u003ctd\u003e0.0\u003c/td\u003e\n    \u003c/tr\u003e\n    \u003ctr\u003e\n      \u003cth\u003e4\u003c/th\u003e\n      \u003ctd\u003e1971-02-11\u003c/td\u003e\n      \u003ctd\u003e^IXIC\u003c/td\u003e\n      \u003ctd\u003e101.45\u003c/td\u003e\n      \u003ctd\u003e101.45\u003c/td\u003e\n      \u003ctd\u003e101.45\u003c/td\u003e\n      \u003ctd\u003e101.45\u003c/td\u003e\n      \u003ctd\u003e0.0\u003c/td\u003e\n    \u003c/tr\u003e\n    \u003ctr\u003e\n      \u003cth\u003e...\u003c/th\u003e\n      \u003ctd\u003e...\u003c/td\u003e\n      \u003ctd\u003e...\u003c/td\u003e\n      \u003ctd\u003e...\u003c/td\u003e\n      \u003ctd\u003e...\u003c/td\u003e\n      \u003ctd\u003e...\u003c/td\u003e\n      \u003ctd\u003e...\u003c/td\u003e\n      \u003ctd\u003e...\u003c/td\u003e\n    \u003c/tr\u003e\n    \u003ctr\u003e\n      \u003cth\u003e41655\u003c/th\u003e\n      \u003ctd\u003e2019-08-23\u003c/td\u003e\n      \u003ctd\u003eMSFT\u003c/td\u003e\n      \u003ctd\u003e137.19\u003c/td\u003e\n      \u003ctd\u003e133.39\u003c/td\u003e\n      \u003ctd\u003e138.35\u003c/td\u003e\n      \u003ctd\u003e132.80\u003c/td\u003e\n      \u003ctd\u003e38515386.0\u003c/td\u003e\n    \u003c/tr\u003e\n    \u003ctr\u003e\n      \u003cth\u003e41656\u003c/th\u003e\n      \u003ctd\u003e2019-08-23\u003c/td\u003e\n      \u003ctd\u003eAAPL\u003c/td\u003e\n      \u003ctd\u003e209.43\u003c/td\u003e\n      \u003ctd\u003e202.64\u003c/td\u003e\n      \u003ctd\u003e212.05\u003c/td\u003e\n      \u003ctd\u003e201.00\u003c/td\u003e\n      \u003ctd\u003e46882843.0\u003c/td\u003e\n    \u003c/tr\u003e\n    \u003ctr\u003e\n      \u003cth\u003e41657\u003c/th\u003e\n      \u003ctd\u003e2019-08-23\u003c/td\u003e\n      \u003ctd\u003eGOOGL\u003c/td\u003e\n      \u003ctd\u003e1185.17\u003c/td\u003e\n      \u003ctd\u003e1153.58\u003c/td\u003e\n      \u003ctd\u003e1195.67\u003c/td\u003e\n      \u003ctd\u003e1150.00\u003c/td\u003e\n      \u003ctd\u003e1813141.0\u003c/td\u003e\n    \u003c/tr\u003e\n    \u003ctr\u003e\n      \u003cth\u003e41658\u003c/th\u003e\n      \u003ctd\u003e2019-08-23\u003c/td\u003e\n      \u003ctd\u003eAMZN\u003c/td\u003e\n      \u003ctd\u003e1793.03\u003c/td\u003e\n      \u003ctd\u003e1749.62\u003c/td\u003e\n      \u003ctd\u003e1804.90\u003c/td\u003e\n      \u003ctd\u003e1745.23\u003c/td\u003e\n      \u003ctd\u003e5277898.0\u003c/td\u003e\n    \u003c/tr\u003e\n    \u003ctr\u003e\n      \u003cth\u003e41659\u003c/th\u003e\n      \u003ctd\u003e2019-08-23\u003c/td\u003e\n      \u003ctd\u003eFB\u003c/td\u003e\n      \u003ctd\u003e180.84\u003c/td\u003e\n      \u003ctd\u003e177.75\u003c/td\u003e\n      \u003ctd\u003e183.13\u003c/td\u003e\n      \u003ctd\u003e176.66\u003c/td\u003e\n      \u003ctd\u003e17331221.0\u003c/td\u003e\n    \u003c/tr\u003e\n  \u003c/tbody\u003e\n\u003c/table\u003e\n\u003cp\u003e41660 rows × 7 columns\u003c/p\u003e\n\u003c/div\u003e",
                        "text/plain": "       Unnamed: 0   name     open    close     high      low      volume\n0      1971-02-05  ^IXIC   100.00   100.00   100.00   100.00         0.0\n1      1971-02-08  ^IXIC   100.84   100.84   100.84   100.84         0.0\n2      1971-02-09  ^IXIC   100.76   100.76   100.76   100.76         0.0\n3      1971-02-10  ^IXIC   100.69   100.69   100.69   100.69         0.0\n4      1971-02-11  ^IXIC   101.45   101.45   101.45   101.45         0.0\n...           ...    ...      ...      ...      ...      ...         ...\n41655  2019-08-23   MSFT   137.19   133.39   138.35   132.80  38515386.0\n41656  2019-08-23   AAPL   209.43   202.64   212.05   201.00  46882843.0\n41657  2019-08-23  GOOGL  1185.17  1153.58  1195.67  1150.00   1813141.0\n41658  2019-08-23   AMZN  1793.03  1749.62  1804.90  1745.23   5277898.0\n41659  2019-08-23     FB   180.84   177.75   183.13   176.66  17331221.0\n\n[41660 rows x 7 columns]"
                    },
                    "execution_count": 97,
                    "metadata": {},
                    "output_type": "execute_result"
                }
            ],
            "source": [
                "df = pd.read_csv('originalfile.csv')\n",
                "df"
            ]
        },
        {
            "attachments": {},
            "cell_type": "markdown",
            "metadata": {},
            "source": [
                "2. Display columns and describe the data set"
            ]
        },
        {
            "cell_type": "code",
            "execution_count": 98,
            "metadata": {},
            "outputs": [
                {
                    "data": {
                        "text/html": "\u003cdiv\u003e\n\u003cstyle scoped\u003e\n    .dataframe tbody tr th:only-of-type {\n        vertical-align: middle;\n    }\n\n    .dataframe tbody tr th {\n        vertical-align: top;\n    }\n\n    .dataframe thead th {\n        text-align: right;\n    }\n\u003c/style\u003e\n\u003ctable border=\"1\" class=\"dataframe\"\u003e\n  \u003cthead\u003e\n    \u003ctr style=\"text-align: right;\"\u003e\n      \u003cth\u003e\u003c/th\u003e\n      \u003cth\u003eopen\u003c/th\u003e\n      \u003cth\u003eclose\u003c/th\u003e\n      \u003cth\u003ehigh\u003c/th\u003e\n      \u003cth\u003elow\u003c/th\u003e\n      \u003cth\u003evolume\u003c/th\u003e\n    \u003c/tr\u003e\n  \u003c/thead\u003e\n  \u003ctbody\u003e\n    \u003ctr\u003e\n      \u003cth\u003ecount\u003c/th\u003e\n      \u003ctd\u003e41660.000000\u003c/td\u003e\n      \u003ctd\u003e41660.000000\u003c/td\u003e\n      \u003ctd\u003e41660.000000\u003c/td\u003e\n      \u003ctd\u003e41660.000000\u003c/td\u003e\n      \u003ctd\u003e4.166000e+04\u003c/td\u003e\n    \u003c/tr\u003e\n    \u003ctr\u003e\n      \u003cth\u003emean\u003c/th\u003e\n      \u003ctd\u003e592.565369\u003c/td\u003e\n      \u003ctd\u003e592.482337\u003c/td\u003e\n      \u003ctd\u003e596.681878\u003c/td\u003e\n      \u003ctd\u003e587.823401\u003c/td\u003e\n      \u003ctd\u003e1.195606e+07\u003c/td\u003e\n    \u003c/tr\u003e\n    \u003ctr\u003e\n      \u003cth\u003estd\u003c/th\u003e\n      \u003ctd\u003e1254.603123\u003c/td\u003e\n      \u003ctd\u003e1254.463915\u003c/td\u003e\n      \u003ctd\u003e1262.142541\u003c/td\u003e\n      \u003ctd\u003e1245.789816\u003c/td\u003e\n      \u003ctd\u003e2.156350e+07\u003c/td\u003e\n    \u003c/tr\u003e\n    \u003ctr\u003e\n      \u003cth\u003emin\u003c/th\u003e\n      \u003ctd\u003e0.090000\u003c/td\u003e\n      \u003ctd\u003e0.090000\u003c/td\u003e\n      \u003ctd\u003e0.090000\u003c/td\u003e\n      \u003ctd\u003e0.090000\u003c/td\u003e\n      \u003ctd\u003e0.000000e+00\u003c/td\u003e\n    \u003c/tr\u003e\n    \u003ctr\u003e\n      \u003cth\u003e25%\u003c/th\u003e\n      \u003ctd\u003e16.687500\u003c/td\u003e\n      \u003ctd\u003e16.727500\u003c/td\u003e\n      \u003ctd\u003e17.060000\u003c/td\u003e\n      \u003ctd\u003e16.337500\u003c/td\u003e\n      \u003ctd\u003e0.000000e+00\u003c/td\u003e\n    \u003c/tr\u003e\n    \u003ctr\u003e\n      \u003cth\u003e50%\u003c/th\u003e\n      \u003ctd\u003e89.255000\u003c/td\u003e\n      \u003ctd\u003e89.360000\u003c/td\u003e\n      \u003ctd\u003e89.875000\u003c/td\u003e\n      \u003ctd\u003e88.615000\u003c/td\u003e\n      \u003ctd\u003e2.302950e+06\u003c/td\u003e\n    \u003c/tr\u003e\n    \u003ctr\u003e\n      \u003cth\u003e75%\u003c/th\u003e\n      \u003ctd\u003e407.637500\u003c/td\u003e\n      \u003ctd\u003e407.775000\u003c/td\u003e\n      \u003ctd\u003e409.602500\u003c/td\u003e\n      \u003ctd\u003e405.975000\u003c/td\u003e\n      \u003ctd\u003e1.401524e+07\u003c/td\u003e\n    \u003c/tr\u003e\n    \u003ctr\u003e\n      \u003cth\u003emax\u003c/th\u003e\n      \u003ctd\u003e8325.100000\u003c/td\u003e\n      \u003ctd\u003e8330.210000\u003c/td\u003e\n      \u003ctd\u003e8339.640000\u003c/td\u003e\n      \u003ctd\u003e8291.120000\u003c/td\u003e\n      \u003ctd\u003e5.910786e+08\u003c/td\u003e\n    \u003c/tr\u003e\n  \u003c/tbody\u003e\n\u003c/table\u003e\n\u003c/div\u003e",
                        "text/plain": "               open         close          high           low        volume\ncount  41660.000000  41660.000000  41660.000000  41660.000000  4.166000e+04\nmean     592.565369    592.482337    596.681878    587.823401  1.195606e+07\nstd     1254.603123   1254.463915   1262.142541   1245.789816  2.156350e+07\nmin        0.090000      0.090000      0.090000      0.090000  0.000000e+00\n25%       16.687500     16.727500     17.060000     16.337500  0.000000e+00\n50%       89.255000     89.360000     89.875000     88.615000  2.302950e+06\n75%      407.637500    407.775000    409.602500    405.975000  1.401524e+07\nmax     8325.100000   8330.210000   8339.640000   8291.120000  5.910786e+08"
                    },
                    "execution_count": 98,
                    "metadata": {},
                    "output_type": "execute_result"
                }
            ],
            "source": [
                "df.describe()"
            ]
        },
        {
            "attachments": {},
            "cell_type": "markdown",
            "metadata": {},
            "source": [
                "Scatter plot"
            ]
        },
        {
            "cell_type": "code",
            "execution_count": 99,
            "metadata": {},
            "outputs": [
                {
                    "data": {
                        "text/plain": "\u003cmatplotlib.collections.PathCollection at 0x7f188d903070\u003e"
                    },
                    "execution_count": 99,
                    "metadata": {},
                    "output_type": "execute_result"
                },
                {
                    "data": {
                        "image/png": "[encoded data removed]",
                        "text/plain": "\u003cFigure size 432x288 with 1 Axes\u003e"
                    },
                    "metadata": {
                        "needs_background": "light"
                    },
                    "output_type": "display_data"
                }
            ],
            "source": [
                "plt.scatter(df.open,df['close'])"
            ]
        },
        {
            "attachments": {},
            "cell_type": "markdown",
            "metadata": {},
            "source": [
                "Fit and predict three clusters for the data"
            ]
        },
        {
            "cell_type": "code",
            "execution_count": 100,
            "metadata": {},
            "outputs": [
                {
                    "data": {
                        "text/plain": "array([0, 0, 0, ..., 1, 1, 0], dtype=int32)"
                    },
                    "execution_count": 100,
                    "metadata": {},
                    "output_type": "execute_result"
                }
            ],
            "source": [
                "km = KMeans(n_clusters=3)\n",
                "y_predicted = km.fit_predict(df[['open','close']])\n",
                "y_predicted"
            ]
        },
        {
            "cell_type": "code",
            "execution_count": 101,
            "metadata": {},
            "outputs": [
                {
                    "data": {
                        "text/html": "\u003cdiv\u003e\n\u003cstyle scoped\u003e\n    .dataframe tbody tr th:only-of-type {\n        vertical-align: middle;\n    }\n\n    .dataframe tbody tr th {\n        vertical-align: top;\n    }\n\n    .dataframe thead th {\n        text-align: right;\n    }\n\u003c/style\u003e\n\u003ctable border=\"1\" class=\"dataframe\"\u003e\n  \u003cthead\u003e\n    \u003ctr style=\"text-align: right;\"\u003e\n      \u003cth\u003e\u003c/th\u003e\n      \u003cth\u003eUnnamed: 0\u003c/th\u003e\n      \u003cth\u003ename\u003c/th\u003e\n      \u003cth\u003eopen\u003c/th\u003e\n      \u003cth\u003eclose\u003c/th\u003e\n      \u003cth\u003ehigh\u003c/th\u003e\n      \u003cth\u003elow\u003c/th\u003e\n      \u003cth\u003evolume\u003c/th\u003e\n      \u003cth\u003ecluster\u003c/th\u003e\n    \u003c/tr\u003e\n  \u003c/thead\u003e\n  \u003ctbody\u003e\n    \u003ctr\u003e\n      \u003cth\u003e0\u003c/th\u003e\n      \u003ctd\u003e1971-02-05\u003c/td\u003e\n      \u003ctd\u003e^IXIC\u003c/td\u003e\n      \u003ctd\u003e100.00\u003c/td\u003e\n      \u003ctd\u003e100.00\u003c/td\u003e\n      \u003ctd\u003e100.00\u003c/td\u003e\n      \u003ctd\u003e100.00\u003c/td\u003e\n      \u003ctd\u003e0.0\u003c/td\u003e\n      \u003ctd\u003e0\u003c/td\u003e\n    \u003c/tr\u003e\n    \u003ctr\u003e\n      \u003cth\u003e1\u003c/th\u003e\n      \u003ctd\u003e1971-02-08\u003c/td\u003e\n      \u003ctd\u003e^IXIC\u003c/td\u003e\n      \u003ctd\u003e100.84\u003c/td\u003e\n      \u003ctd\u003e100.84\u003c/td\u003e\n      \u003ctd\u003e100.84\u003c/td\u003e\n      \u003ctd\u003e100.84\u003c/td\u003e\n      \u003ctd\u003e0.0\u003c/td\u003e\n      \u003ctd\u003e0\u003c/td\u003e\n    \u003c/tr\u003e\n    \u003ctr\u003e\n      \u003cth\u003e2\u003c/th\u003e\n      \u003ctd\u003e1971-02-09\u003c/td\u003e\n      \u003ctd\u003e^IXIC\u003c/td\u003e\n      \u003ctd\u003e100.76\u003c/td\u003e\n      \u003ctd\u003e100.76\u003c/td\u003e\n      \u003ctd\u003e100.76\u003c/td\u003e\n      \u003ctd\u003e100.76\u003c/td\u003e\n      \u003ctd\u003e0.0\u003c/td\u003e\n      \u003ctd\u003e0\u003c/td\u003e\n    \u003c/tr\u003e\n    \u003ctr\u003e\n      \u003cth\u003e3\u003c/th\u003e\n      \u003ctd\u003e1971-02-10\u003c/td\u003e\n      \u003ctd\u003e^IXIC\u003c/td\u003e\n      \u003ctd\u003e100.69\u003c/td\u003e\n      \u003ctd\u003e100.69\u003c/td\u003e\n      \u003ctd\u003e100.69\u003c/td\u003e\n      \u003ctd\u003e100.69\u003c/td\u003e\n      \u003ctd\u003e0.0\u003c/td\u003e\n      \u003ctd\u003e0\u003c/td\u003e\n    \u003c/tr\u003e\n    \u003ctr\u003e\n      \u003cth\u003e4\u003c/th\u003e\n      \u003ctd\u003e1971-02-11\u003c/td\u003e\n      \u003ctd\u003e^IXIC\u003c/td\u003e\n      \u003ctd\u003e101.45\u003c/td\u003e\n      \u003ctd\u003e101.45\u003c/td\u003e\n      \u003ctd\u003e101.45\u003c/td\u003e\n      \u003ctd\u003e101.45\u003c/td\u003e\n      \u003ctd\u003e0.0\u003c/td\u003e\n      \u003ctd\u003e0\u003c/td\u003e\n    \u003c/tr\u003e\n  \u003c/tbody\u003e\n\u003c/table\u003e\n\u003c/div\u003e",
                        "text/plain": "   Unnamed: 0   name    open   close    high     low  volume  cluster\n0  1971-02-05  ^IXIC  100.00  100.00  100.00  100.00     0.0        0\n1  1971-02-08  ^IXIC  100.84  100.84  100.84  100.84     0.0        0\n2  1971-02-09  ^IXIC  100.76  100.76  100.76  100.76     0.0        0\n3  1971-02-10  ^IXIC  100.69  100.69  100.69  100.69     0.0        0\n4  1971-02-11  ^IXIC  101.45  101.45  101.45  101.45     0.0        0"
                    },
                    "execution_count": 101,
                    "metadata": {},
                    "output_type": "execute_result"
                }
            ],
            "source": [
                "df['cluster']=y_predicted\n",
                "df.head()"
            ]
        },
        {
            "cell_type": "code",
            "execution_count": 102,
            "metadata": {},
            "outputs": [
                {
                    "data": {
                        "text/plain": "array([[ 151.31900179,  151.32343506],\n       [2125.0351445 , 2124.41150031],\n       [5663.00829975, 5662.64786524]])"
                    },
                    "execution_count": 102,
                    "metadata": {},
                    "output_type": "execute_result"
                }
            ],
            "source": [
                "km.cluster_centers_"
            ]
        },
        {
            "cell_type": "code",
            "execution_count": 103,
            "metadata": {},
            "outputs": [
                {
                    "data": {
                        "text/plain": "\u003cmatplotlib.legend.Legend at 0x7f182bb4c040\u003e"
                    },
                    "execution_count": 103,
                    "metadata": {},
                    "output_type": "execute_result"
                },
                {
                    "data": {
                        "image/png": "[encoded data removed]",
                        "text/plain": "\u003cFigure size 432x288 with 1 Axes\u003e"
                    },
                    "metadata": {
                        "needs_background": "light"
                    },
                    "output_type": "display_data"
                }
            ],
            "source": [
                "df1 = df[df.cluster==0]\n",
                "df2 = df[df.cluster==1]\n",
                "df3 = df[df.cluster==2]\n",
                "plt.scatter(df1.open,df1['close'],color='green')\n",
                "plt.scatter(df2.open,df2['close'],color='red')\n",
                "plt.scatter(df3.open,df3['close'],color='black')\n",
                "plt.scatter(km.cluster_centers_[:,0],km.cluster_centers_[:,1],color='purple',marker='*',label='centroid')\n",
                "plt.xlabel('open')\n",
                "plt.ylabel('close')\n",
                "plt.legend()"
            ]
        },
        {
            "attachments": {},
            "cell_type": "markdown",
            "metadata": {},
            "source": [
                "Fit the model using MinMaxScaler()"
            ]
        },
        {
            "cell_type": "code",
            "execution_count": 104,
            "metadata": {},
            "outputs": [],
            "source": [
                "scaler = MinMaxScaler()\n",
                "\n",
                "scaler.fit(df[['close']])\n",
                "df['open'] = scaler.transform(df[['close']])\n",
                "\n",
                "scaler.fit(df[['open']])\n",
                "df['open'] = scaler.transform(df[['open']])"
            ]
        },
        {
            "cell_type": "code",
            "execution_count": 105,
            "metadata": {},
            "outputs": [
                {
                    "data": {
                        "text/plain": "\u003cmatplotlib.collections.PathCollection at 0x7f182b759100\u003e"
                    },
                    "execution_count": 105,
                    "metadata": {},
                    "output_type": "execute_result"
                },
                {
                    "data": {
                        "image/png": "[encoded data removed]",
                        "text/plain": "\u003cFigure size 432x288 with 1 Axes\u003e"
                    },
                    "metadata": {
                        "needs_background": "light"
                    },
                    "output_type": "display_data"
                }
            ],
            "source": [
                "plt.scatter(df.open,df['close'])"
            ]
        },
        {
            "cell_type": "code",
            "execution_count": 106,
            "metadata": {},
            "outputs": [
                {
                    "data": {
                        "text/plain": "array([0, 0, 0, ..., 2, 2, 0], dtype=int32)"
                    },
                    "execution_count": 106,
                    "metadata": {},
                    "output_type": "execute_result"
                }
            ],
            "source": [
                "km = KMeans(n_clusters=3)\n",
                "y_predicted = km.fit_predict(df[['open','close']])\n",
                "y_predicted"
            ]
        },
        {
            "cell_type": "code",
            "execution_count": 107,
            "metadata": {},
            "outputs": [
                {
                    "data": {
                        "text/html": "\u003cdiv\u003e\n\u003cstyle scoped\u003e\n    .dataframe tbody tr th:only-of-type {\n        vertical-align: middle;\n    }\n\n    .dataframe tbody tr th {\n        vertical-align: top;\n    }\n\n    .dataframe thead th {\n        text-align: right;\n    }\n\u003c/style\u003e\n\u003ctable border=\"1\" class=\"dataframe\"\u003e\n  \u003cthead\u003e\n    \u003ctr style=\"text-align: right;\"\u003e\n      \u003cth\u003e\u003c/th\u003e\n      \u003cth\u003eUnnamed: 0\u003c/th\u003e\n      \u003cth\u003ename\u003c/th\u003e\n      \u003cth\u003eopen\u003c/th\u003e\n      \u003cth\u003eclose\u003c/th\u003e\n      \u003cth\u003ehigh\u003c/th\u003e\n      \u003cth\u003elow\u003c/th\u003e\n      \u003cth\u003evolume\u003c/th\u003e\n      \u003cth\u003ecluster\u003c/th\u003e\n    \u003c/tr\u003e\n  \u003c/thead\u003e\n  \u003ctbody\u003e\n    \u003ctr\u003e\n      \u003cth\u003e0\u003c/th\u003e\n      \u003ctd\u003e1971-02-05\u003c/td\u003e\n      \u003ctd\u003e^IXIC\u003c/td\u003e\n      \u003ctd\u003e0.011994\u003c/td\u003e\n      \u003ctd\u003e100.00\u003c/td\u003e\n      \u003ctd\u003e100.00\u003c/td\u003e\n      \u003ctd\u003e100.00\u003c/td\u003e\n      \u003ctd\u003e0.0\u003c/td\u003e\n      \u003ctd\u003e0\u003c/td\u003e\n    \u003c/tr\u003e\n    \u003ctr\u003e\n      \u003cth\u003e1\u003c/th\u003e\n      \u003ctd\u003e1971-02-08\u003c/td\u003e\n      \u003ctd\u003e^IXIC\u003c/td\u003e\n      \u003ctd\u003e0.012095\u003c/td\u003e\n      \u003ctd\u003e100.84\u003c/td\u003e\n      \u003ctd\u003e100.84\u003c/td\u003e\n      \u003ctd\u003e100.84\u003c/td\u003e\n      \u003ctd\u003e0.0\u003c/td\u003e\n      \u003ctd\u003e0\u003c/td\u003e\n    \u003c/tr\u003e\n    \u003ctr\u003e\n      \u003cth\u003e2\u003c/th\u003e\n      \u003ctd\u003e1971-02-09\u003c/td\u003e\n      \u003ctd\u003e^IXIC\u003c/td\u003e\n      \u003ctd\u003e0.012085\u003c/td\u003e\n      \u003ctd\u003e100.76\u003c/td\u003e\n      \u003ctd\u003e100.76\u003c/td\u003e\n      \u003ctd\u003e100.76\u003c/td\u003e\n      \u003ctd\u003e0.0\u003c/td\u003e\n      \u003ctd\u003e0\u003c/td\u003e\n    \u003c/tr\u003e\n    \u003ctr\u003e\n      \u003cth\u003e3\u003c/th\u003e\n      \u003ctd\u003e1971-02-10\u003c/td\u003e\n      \u003ctd\u003e^IXIC\u003c/td\u003e\n      \u003ctd\u003e0.012077\u003c/td\u003e\n      \u003ctd\u003e100.69\u003c/td\u003e\n      \u003ctd\u003e100.69\u003c/td\u003e\n      \u003ctd\u003e100.69\u003c/td\u003e\n      \u003ctd\u003e0.0\u003c/td\u003e\n      \u003ctd\u003e0\u003c/td\u003e\n    \u003c/tr\u003e\n    \u003ctr\u003e\n      \u003cth\u003e4\u003c/th\u003e\n      \u003ctd\u003e1971-02-11\u003c/td\u003e\n      \u003ctd\u003e^IXIC\u003c/td\u003e\n      \u003ctd\u003e0.012168\u003c/td\u003e\n      \u003ctd\u003e101.45\u003c/td\u003e\n      \u003ctd\u003e101.45\u003c/td\u003e\n      \u003ctd\u003e101.45\u003c/td\u003e\n      \u003ctd\u003e0.0\u003c/td\u003e\n      \u003ctd\u003e0\u003c/td\u003e\n    \u003c/tr\u003e\n  \u003c/tbody\u003e\n\u003c/table\u003e\n\u003c/div\u003e",
                        "text/plain": "   Unnamed: 0   name      open   close    high     low  volume  cluster\n0  1971-02-05  ^IXIC  0.011994  100.00  100.00  100.00     0.0        0\n1  1971-02-08  ^IXIC  0.012095  100.84  100.84  100.84     0.0        0\n2  1971-02-09  ^IXIC  0.012085  100.76  100.76  100.76     0.0        0\n3  1971-02-10  ^IXIC  0.012077  100.69  100.69  100.69     0.0        0\n4  1971-02-11  ^IXIC  0.012168  101.45  101.45  101.45     0.0        0"
                    },
                    "execution_count": 107,
                    "metadata": {},
                    "output_type": "execute_result"
                }
            ],
            "source": [
                "df['cluster']=y_predicted\n",
                "df.head()"
            ]
        },
        {
            "cell_type": "code",
            "execution_count": 108,
            "metadata": {},
            "outputs": [
                {
                    "data": {
                        "text/plain": "array([[1.81177686e-02, 1.51013187e+02],\n       [6.79793160e-01, 5.66284860e+03],\n       [2.54744231e-01, 2.12214001e+03]])"
                    },
                    "execution_count": 108,
                    "metadata": {},
                    "output_type": "execute_result"
                }
            ],
            "source": [
                "km.cluster_centers_"
            ]
        },
        {
            "cell_type": "code",
            "execution_count": 109,
            "metadata": {},
            "outputs": [
                {
                    "data": {
                        "text/plain": "\u003cmatplotlib.legend.Legend at 0x7f182b992a00\u003e"
                    },
                    "execution_count": 109,
                    "metadata": {},
                    "output_type": "execute_result"
                },
                {
                    "data": {
                        "image/png": "[encoded data removed]",
                        "text/plain": "\u003cFigure size 432x288 with 1 Axes\u003e"
                    },
                    "metadata": {
                        "needs_background": "light"
                    },
                    "output_type": "display_data"
                }
            ],
            "source": [
                "df1 = df[df.cluster==0]\n",
                "df2 = df[df.cluster==1]\n",
                "df3 = df[df.cluster==2]\n",
                "plt.scatter(df1.open,df1['close'],color='green')\n",
                "plt.scatter(df2.open,df2['close'],color='red')\n",
                "plt.scatter(df3.open,df3['close'],color='black')\n",
                "plt.scatter(km.cluster_centers_[:,0],km.cluster_centers_[:,1],color='purple',marker='*',label='centroid')\n",
                "plt.legend()"
            ]
        },
        {
            "cell_type": "code",
            "execution_count": 110,
            "metadata": {},
            "outputs": [],
            "source": [
                "sse = []\n",
                "k_rng = range(1,10)\n",
                "for k in k_rng:\n",
                "    km = KMeans(n_clusters=k)\n",
                "    km.fit(df[['open','close']])\n",
                "    sse.append(km.inertia_)"
            ]
        },
        {
            "cell_type": "code",
            "execution_count": 111,
            "metadata": {},
            "outputs": [
                {
                    "data": {
                        "text/plain": "[\u003cmatplotlib.lines.Line2D at 0x7f182b951970\u003e]"
                    },
                    "execution_count": 111,
                    "metadata": {},
                    "output_type": "execute_result"
                },
                {
                    "data": {
                        "image/png": "[encoded data removed]",
                        "text/plain": "\u003cFigure size 432x288 with 1 Axes\u003e"
                    },
                    "metadata": {
                        "needs_background": "light"
                    },
                    "output_type": "display_data"
                }
            ],
            "source": [
                "plt.xlabel('K')\n",
                "plt.ylabel('Sum of squared error')\n",
                "plt.plot(k_rng,sse)"
            ]
        }
    ]
}
