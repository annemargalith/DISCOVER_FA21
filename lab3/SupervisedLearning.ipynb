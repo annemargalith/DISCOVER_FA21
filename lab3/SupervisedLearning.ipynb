{
    "metadata": {
        "kernelspec": {
            "name": "python3",
            "display_name": "Python 3 (ipykernel)",
            "language": "python"
        }
    },
    "nbformat": 4,
    "nbformat_minor": 2,
    "cells": [
        {
            "attachments": {},
            "cell_type": "markdown",
            "metadata": {},
            "source": [
                "# **Training a maximum entropy classifier**"
            ]
        },
        {
            "attachments": {},
            "cell_type": "markdown",
            "metadata": {},
            "source": [
                "This code bit predicts music preference based on age and gender and returns dataset entropy and average prediction accuracy over 30 runs.\u003cbr\u003e\n",
                "Run the code by clicking \u003cb\u003eRun All\u003c/b\u003e."
            ]
        },
        {
            "cell_type": "code",
            "execution_count": 61,
            "metadata": {},
            "outputs": [],
            "source": [
                "#import pandas, scipy and sklearn packages\n",
                "\n",
                "import pandas as pd\n",
                "import scipy.stats\n",
                "from sklearn.tree import DecisionTreeClassifier\n",
                "from sklearn.model_selection import train_test_split\n",
                "from sklearn.metrics import accuracy_score\n",
                "from sklearn import tree\n",
                "from itertools import repeat\n",
                "import numpy as np"
            ]
        },
        {
            "attachments": {},
            "cell_type": "markdown",
            "metadata": {},
            "source": [
                "**1. Read in the dataset**"
            ]
        },
        {
            "cell_type": "code",
            "execution_count": 64,
            "metadata": {},
            "outputs": [
                {
                    "data": {
                        "text/html": "\u003cdiv\u003e\n\u003cstyle scoped\u003e\n    .dataframe tbody tr th:only-of-type {\n        vertical-align: middle;\n    }\n\n    .dataframe tbody tr th {\n        vertical-align: top;\n    }\n\n    .dataframe thead th {\n        text-align: right;\n    }\n\u003c/style\u003e\n\u003ctable border=\"1\" class=\"dataframe\"\u003e\n  \u003cthead\u003e\n    \u003ctr style=\"text-align: right;\"\u003e\n      \u003cth\u003e\u003c/th\u003e\n      \u003cth\u003eopen\u003c/th\u003e\n      \u003cth\u003eclose\u003c/th\u003e\n      \u003cth\u003ehigh\u003c/th\u003e\n      \u003cth\u003elow\u003c/th\u003e\n      \u003cth\u003evolume\u003c/th\u003e\n    \u003c/tr\u003e\n  \u003c/thead\u003e\n  \u003ctbody\u003e\n    \u003ctr\u003e\n      \u003cth\u003ecount\u003c/th\u003e\n      \u003ctd\u003e19994.000000\u003c/td\u003e\n      \u003ctd\u003e19994.000000\u003c/td\u003e\n      \u003ctd\u003e19994.000000\u003c/td\u003e\n      \u003ctd\u003e19994.000000\u003c/td\u003e\n      \u003ctd\u003e1.999400e+04\u003c/td\u003e\n    \u003c/tr\u003e\n    \u003ctr\u003e\n      \u003cth\u003emean\u003c/th\u003e\n      \u003ctd\u003e205.911975\u003c/td\u003e\n      \u003ctd\u003e205.876058\u003c/td\u003e\n      \u003ctd\u003e207.916333\u003c/td\u003e\n      \u003ctd\u003e203.701407\u003c/td\u003e\n      \u003ctd\u003e2.324105e+07\u003c/td\u003e\n    \u003c/tr\u003e\n    \u003ctr\u003e\n      \u003cth\u003estd\u003c/th\u003e\n      \u003ctd\u003e332.316771\u003c/td\u003e\n      \u003ctd\u003e332.165818\u003c/td\u003e\n      \u003ctd\u003e335.255867\u003c/td\u003e\n      \u003ctd\u003e328.828999\u003c/td\u003e\n      \u003ctd\u003e2.634979e+07\u003c/td\u003e\n    \u003c/tr\u003e\n    \u003ctr\u003e\n      \u003cth\u003emin\u003c/th\u003e\n      \u003ctd\u003e0.920000\u003c/td\u003e\n      \u003ctd\u003e0.940000\u003c/td\u003e\n      \u003ctd\u003e0.940000\u003c/td\u003e\n      \u003ctd\u003e0.910000\u003c/td\u003e\n      \u003ctd\u003e1.000000e+02\u003c/td\u003e\n    \u003c/tr\u003e\n    \u003ctr\u003e\n      \u003cth\u003e25%\u003c/th\u003e\n      \u003ctd\u003e27.780000\u003c/td\u003e\n      \u003ctd\u003e27.782500\u003c/td\u003e\n      \u003ctd\u003e28.110000\u003c/td\u003e\n      \u003ctd\u003e27.452500\u003c/td\u003e\n      \u003ctd\u003e4.559628e+06\u003c/td\u003e\n    \u003c/tr\u003e\n    \u003ctr\u003e\n      \u003cth\u003e50%\u003c/th\u003e\n      \u003ctd\u003e74.150000\u003c/td\u003e\n      \u003ctd\u003e74.225000\u003c/td\u003e\n      \u003ctd\u003e74.980000\u003c/td\u003e\n      \u003ctd\u003e73.350000\u003c/td\u003e\n      \u003ctd\u003e1.342977e+07\u003c/td\u003e\n    \u003c/tr\u003e\n    \u003ctr\u003e\n      \u003cth\u003e75%\u003c/th\u003e\n      \u003ctd\u003e214.300000\u003c/td\u003e\n      \u003ctd\u003e214.305000\u003c/td\u003e\n      \u003ctd\u003e216.967500\u003c/td\u003e\n      \u003ctd\u003e211.615000\u003c/td\u003e\n      \u003ctd\u003e3.408909e+07\u003c/td\u003e\n    \u003c/tr\u003e\n    \u003ctr\u003e\n      \u003cth\u003emax\u003c/th\u003e\n      \u003ctd\u003e2038.110000\u003c/td\u003e\n      \u003ctd\u003e2039.510000\u003c/td\u003e\n      \u003ctd\u003e2050.500000\u003c/td\u003e\n      \u003ctd\u003e2013.000000\u003c/td\u003e\n      \u003ctd\u003e5.910786e+08\u003c/td\u003e\n    \u003c/tr\u003e\n  \u003c/tbody\u003e\n\u003c/table\u003e\n\u003c/div\u003e",
                        "text/plain": "               open         close          high           low        volume\ncount  19994.000000  19994.000000  19994.000000  19994.000000  1.999400e+04\nmean     205.911975    205.876058    207.916333    203.701407  2.324105e+07\nstd      332.316771    332.165818    335.255867    328.828999  2.634979e+07\nmin        0.920000      0.940000      0.940000      0.910000  1.000000e+02\n25%       27.780000     27.782500     28.110000     27.452500  4.559628e+06\n50%       74.150000     74.225000     74.980000     73.350000  1.342977e+07\n75%      214.300000    214.305000    216.967500    211.615000  3.408909e+07\nmax     2038.110000   2039.510000   2050.500000   2013.000000  5.910786e+08"
                    },
                    "execution_count": 64,
                    "metadata": {},
                    "output_type": "execute_result"
                }
            ],
            "source": [
                "df = pd.read_csv('cleanedfile.csv')\n",
                "df = df[df.name != '^IXIC']\n",
                "df = df.drop(columns = ['Unnamed: 0', 'name'])\n",
                "df\n",
                "df = df.tail(19994)\n",
                "df.describe()\n",
                "\n",
                ""
            ]
        },
        {
            "attachments": {},
            "cell_type": "markdown",
            "metadata": {},
            "source": [
                "**2. Split the dataset**"
            ]
        },
        {
            "cell_type": "code",
            "execution_count": 65,
            "metadata": {},
            "outputs": [
                {
                    "data": {
                        "text/html": "\u003cdiv\u003e\n\u003cstyle scoped\u003e\n    .dataframe tbody tr th:only-of-type {\n        vertical-align: middle;\n    }\n\n    .dataframe tbody tr th {\n        vertical-align: top;\n    }\n\n    .dataframe thead th {\n        text-align: right;\n    }\n\u003c/style\u003e\n\u003ctable border=\"1\" class=\"dataframe\"\u003e\n  \u003cthead\u003e\n    \u003ctr style=\"text-align: right;\"\u003e\n      \u003cth\u003e\u003c/th\u003e\n      \u003cth\u003ehigh\u003c/th\u003e\n      \u003cth\u003elow\u003c/th\u003e\n    \u003c/tr\u003e\n  \u003c/thead\u003e\n  \u003ctbody\u003e\n    \u003ctr\u003e\n      \u003cth\u003e16868\u003c/th\u003e\n      \u003ctd\u003e32.25\u003c/td\u003e\n      \u003ctd\u003e30.13\u003c/td\u003e\n    \u003c/tr\u003e\n    \u003ctr\u003e\n      \u003cth\u003e16870\u003c/th\u003e\n      \u003ctd\u003e35.22\u003c/td\u003e\n      \u003ctd\u003e34.25\u003c/td\u003e\n    \u003c/tr\u003e\n    \u003ctr\u003e\n      \u003cth\u003e16871\u003c/th\u003e\n      \u003ctd\u003e3.57\u003c/td\u003e\n      \u003ctd\u003e3.36\u003c/td\u003e\n    \u003c/tr\u003e\n    \u003ctr\u003e\n      \u003cth\u003e16873\u003c/th\u003e\n      \u003ctd\u003e32.00\u003c/td\u003e\n      \u003ctd\u003e30.22\u003c/td\u003e\n    \u003c/tr\u003e\n    \u003ctr\u003e\n      \u003cth\u003e16874\u003c/th\u003e\n      \u003ctd\u003e31.75\u003c/td\u003e\n      \u003ctd\u003e29.31\u003c/td\u003e\n    \u003c/tr\u003e\n    \u003ctr\u003e\n      \u003cth\u003e...\u003c/th\u003e\n      \u003ctd\u003e...\u003c/td\u003e\n      \u003ctd\u003e...\u003c/td\u003e\n    \u003c/tr\u003e\n    \u003ctr\u003e\n      \u003cth\u003e41655\u003c/th\u003e\n      \u003ctd\u003e138.35\u003c/td\u003e\n      \u003ctd\u003e132.80\u003c/td\u003e\n    \u003c/tr\u003e\n    \u003ctr\u003e\n      \u003cth\u003e41656\u003c/th\u003e\n      \u003ctd\u003e212.05\u003c/td\u003e\n      \u003ctd\u003e201.00\u003c/td\u003e\n    \u003c/tr\u003e\n    \u003ctr\u003e\n      \u003cth\u003e41657\u003c/th\u003e\n      \u003ctd\u003e1195.67\u003c/td\u003e\n      \u003ctd\u003e1150.00\u003c/td\u003e\n    \u003c/tr\u003e\n    \u003ctr\u003e\n      \u003cth\u003e41658\u003c/th\u003e\n      \u003ctd\u003e1804.90\u003c/td\u003e\n      \u003ctd\u003e1745.23\u003c/td\u003e\n    \u003c/tr\u003e\n    \u003ctr\u003e\n      \u003cth\u003e41659\u003c/th\u003e\n      \u003ctd\u003e183.13\u003c/td\u003e\n      \u003ctd\u003e176.66\u003c/td\u003e\n    \u003c/tr\u003e\n  \u003c/tbody\u003e\n\u003c/table\u003e\n\u003cp\u003e19994 rows × 2 columns\u003c/p\u003e\n\u003c/div\u003e",
                        "text/plain": "          high      low\n16868    32.25    30.13\n16870    35.22    34.25\n16871     3.57     3.36\n16873    32.00    30.22\n16874    31.75    29.31\n...        ...      ...\n41655   138.35   132.80\n41656   212.05   201.00\n41657  1195.67  1150.00\n41658  1804.90  1745.23\n41659   183.13   176.66\n\n[19994 rows x 2 columns]"
                    },
                    "execution_count": 65,
                    "metadata": {},
                    "output_type": "execute_result"
                }
            ],
            "source": [
                "# Run this section to inspect X\n",
                "X = df.drop(columns = ['volume', 'open', 'close'])\n",
                "X"
            ]
        },
        {
            "cell_type": "code",
            "execution_count": 66,
            "metadata": {},
            "outputs": [
                {
                    "data": {
                        "text/plain": "16868     8073700.0\n16870    24082300.0\n16871     2898400.0\n16873     4934600.0\n16874     5143700.0\n            ...    \n41655    38515386.0\n41656    46882843.0\n41657     1813141.0\n41658     5277898.0\n41659    17331221.0\nName: volume, Length: 19994, dtype: float64"
                    },
                    "execution_count": 66,
                    "metadata": {},
                    "output_type": "execute_result"
                }
            ],
            "source": [
                "# Uncomment this section to inpect y\n",
                "y = df['volume']\n",
                "y"
            ]
        },
        {
            "attachments": {},
            "cell_type": "markdown",
            "metadata": {},
            "source": [
                "**Turning floats into 'categories':**"
            ]
        },
        {
            "cell_type": "code",
            "execution_count": 67,
            "metadata": {},
            "outputs": [],
            "source": [
                "co25 = 4.559628e+06\n",
                "co50 = 1.342977e+07\n",
                "co75 = 3.408909e+07\n",
                "#dict = y.to_dict()\n",
                "#print(dict) \n",
                "cat = []\n",
                "for value in y:\n",
                "    if value \u003c co25: \n",
                "        cat.append('0-25')\n",
                "    elif value \u003c co50:\n",
                "        cat.append('25-50')\n",
                "    elif value \u003c co75:\n",
                "        cat.append('50-75') \n",
                "    else:\n",
                "        cat.append('75-100')\n",
                "dict = {\n",
                "    'volume': cat, 'nonsense': cat\n",
                "}\n",
                "df2 = pd.DataFrame(dict)\n",
                "y = df2['volume']\n",
                "\n",
                "  "
            ]
        },
        {
            "attachments": {},
            "cell_type": "markdown",
            "metadata": {},
            "source": [
                "**3. Compute entropy of data set**"
            ]
        },
        {
            "cell_type": "code",
            "execution_count": 68,
            "metadata": {},
            "outputs": [],
            "source": [
                "# Compute the maximum entropy value\n",
                "k = y.unique().size\n",
                "maxE = np.log2(k)\n",
                "p_data = y.value_counts(normalize=True)           # counts occurrence of each value\n",
                "entropy = scipy.stats.entropy(p_data)  # get entropy from counts\n",
                "\n",
                "# normalize the value to be between 0 and 1.\n",
                "normalizedE = entropy/maxE"
            ]
        },
        {
            "attachments": {},
            "cell_type": "markdown",
            "metadata": {},
            "source": [
                "**4. Testing: entropy-based decision tree classifier averaged over 30 runs**"
            ]
        },
        {
            "cell_type": "code",
            "execution_count": 69,
            "metadata": {},
            "outputs": [],
            "source": [
                "avg_score = 0.0\n",
                "ntimes = 30\n",
                "\n",
                "for i in repeat(None, ntimes):\n",
                "\n",
                "    # train model with 80% of the data\n",
                "    X_train, X_test, y_train, y_test = train_test_split(X, y, test_size=0.2)\n",
                "\n",
                "    # prediction using entropy\n",
                "    # Note: You can replace 'entropy' by 'gini' to get the classifier to use the gini index criterion.\n",
                "    model = DecisionTreeClassifier(criterion='entropy')\n",
                "    model.fit(X_train,y_train)\n",
                "    predictions = model.predict(X_test)\n",
                "\n",
                "    # compute model accuracy\n",
                "    avg_score += accuracy_score(y_test, predictions)\n",
                "\n",
                "avg_score /= ntimes"
            ]
        },
        {
            "attachments": {},
            "cell_type": "markdown",
            "metadata": {},
            "source": [
                "**5. print outputs**"
            ]
        },
        {
            "cell_type": "code",
            "execution_count": 70,
            "metadata": {},
            "outputs": [
                {
                    "name": "stdout",
                    "output_type": "stream",
                    "text": "normalized entropy value: 0.693\naverage accuracy score: 0.571\n"
                }
            ],
            "source": [
                "print('normalized entropy value: %.3f'% normalizedE)\n",
                "print('average accuracy score: %.3f' % avg_score)\n",
                "\n",
                "# output visual (can be visualized with visual code)\n",
                "tree.export_graphviz(model, out_file='SupervisedModel.dot',\n",
                "                    feature_names=['high', 'low'],\n",
                "                    class_names=sorted(y.unique()),\n",
                "                    label='all',\n",
                "                    rounded=True,\n",
                "                    filled=True) \n",
                "                    "
            ]
        }
    ]
}
